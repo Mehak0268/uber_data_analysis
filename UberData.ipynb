{
 "cells": [
  {
   "cell_type": "markdown",
   "id": "bd53db68",
   "metadata": {},
   "source": [
    "# Objectives\n",
    "1. On what days people take more ubers\n",
    "2. catergory wise distribution\n",
    "3. People prefer to take ubers for short distance or long distance (let short distance is <10)\n",
    "4. purpose wise distribution\n",
    "5. Average length of trip\n",
    "6. trips per month or per week \n",
    "7. What Hour Do Most People Take Uber To Their Destination?\n",
    "8. Number of trips per day\n",
    "9. Where do people start boarding their trips the most\n",
    "10. Where do people stop their trips the most "
   ]
  },
  {
   "cell_type": "code",
   "execution_count": 2,
   "id": "ad7fdbf7",
   "metadata": {},
   "outputs": [],
   "source": [
    "import pandas as pd\n",
    "import numpy as np\n",
    "\n",
    "import matplotlib \n",
    "import matplotlib.pyplot as plt\n",
    "from matplotlib.pyplot import figure\n",
    "\n",
    "import seaborn as sns\n",
    "sns.set(rc = {'figure.figsize':(15,8)})"
   ]
  },
  {
   "cell_type": "code",
   "execution_count": 3,
   "id": "a93bc659",
   "metadata": {},
   "outputs": [],
   "source": [
    "workbook = pd.ExcelFile(r'C:\\Users\\mehak\\OneDrive\\Desktop\\Projects\\Uber\\My Uber Drives - 2016.xls')\n"
   ]
  },
  {
   "cell_type": "code",
   "execution_count": 4,
   "id": "893fbf83",
   "metadata": {},
   "outputs": [],
   "source": [
    "df = pd.read_excel(workbook,'Final')"
   ]
  },
  {
   "cell_type": "code",
   "execution_count": 5,
   "id": "877bb71f",
   "metadata": {},
   "outputs": [
    {
     "data": {
      "text/html": [
       "<div>\n",
       "<style scoped>\n",
       "    .dataframe tbody tr th:only-of-type {\n",
       "        vertical-align: middle;\n",
       "    }\n",
       "\n",
       "    .dataframe tbody tr th {\n",
       "        vertical-align: top;\n",
       "    }\n",
       "\n",
       "    .dataframe thead th {\n",
       "        text-align: right;\n",
       "    }\n",
       "</style>\n",
       "<table border=\"1\" class=\"dataframe\">\n",
       "  <thead>\n",
       "    <tr style=\"text-align: right;\">\n",
       "      <th></th>\n",
       "      <th>START_DATE</th>\n",
       "      <th>START_TIME</th>\n",
       "      <th>END_DATE</th>\n",
       "      <th>END_TIME</th>\n",
       "      <th>CATEGORY</th>\n",
       "      <th>START</th>\n",
       "      <th>STOP</th>\n",
       "      <th>MILES</th>\n",
       "      <th>PURPOSE</th>\n",
       "    </tr>\n",
       "  </thead>\n",
       "  <tbody>\n",
       "    <tr>\n",
       "      <th>0</th>\n",
       "      <td>2016-01-01</td>\n",
       "      <td>21:11:00</td>\n",
       "      <td>2016-01-01</td>\n",
       "      <td>21:17:00</td>\n",
       "      <td>Business</td>\n",
       "      <td>Fort Pierce</td>\n",
       "      <td>Fort Pierce</td>\n",
       "      <td>5.1</td>\n",
       "      <td>Meal/Entertain</td>\n",
       "    </tr>\n",
       "    <tr>\n",
       "      <th>1</th>\n",
       "      <td>2016-01-02</td>\n",
       "      <td>01:25:00</td>\n",
       "      <td>2016-01-02</td>\n",
       "      <td>01:37:00</td>\n",
       "      <td>Business</td>\n",
       "      <td>Fort Pierce</td>\n",
       "      <td>Fort Pierce</td>\n",
       "      <td>5.0</td>\n",
       "      <td>NaN</td>\n",
       "    </tr>\n",
       "    <tr>\n",
       "      <th>2</th>\n",
       "      <td>2016-01-02</td>\n",
       "      <td>20:25:00</td>\n",
       "      <td>2016-01-02</td>\n",
       "      <td>20:38:00</td>\n",
       "      <td>Business</td>\n",
       "      <td>Fort Pierce</td>\n",
       "      <td>Fort Pierce</td>\n",
       "      <td>4.8</td>\n",
       "      <td>Errand/Supplies</td>\n",
       "    </tr>\n",
       "    <tr>\n",
       "      <th>3</th>\n",
       "      <td>2016-01-05</td>\n",
       "      <td>17:31:00</td>\n",
       "      <td>2016-01-05</td>\n",
       "      <td>17:45:00</td>\n",
       "      <td>Business</td>\n",
       "      <td>Fort Pierce</td>\n",
       "      <td>Fort Pierce</td>\n",
       "      <td>4.7</td>\n",
       "      <td>Meeting</td>\n",
       "    </tr>\n",
       "    <tr>\n",
       "      <th>4</th>\n",
       "      <td>2016-01-06</td>\n",
       "      <td>14:42:00</td>\n",
       "      <td>2016-01-06</td>\n",
       "      <td>15:49:00</td>\n",
       "      <td>Business</td>\n",
       "      <td>Fort Pierce</td>\n",
       "      <td>West Palm Beach</td>\n",
       "      <td>63.7</td>\n",
       "      <td>Customer Visit</td>\n",
       "    </tr>\n",
       "    <tr>\n",
       "      <th>...</th>\n",
       "      <td>...</td>\n",
       "      <td>...</td>\n",
       "      <td>...</td>\n",
       "      <td>...</td>\n",
       "      <td>...</td>\n",
       "      <td>...</td>\n",
       "      <td>...</td>\n",
       "      <td>...</td>\n",
       "      <td>...</td>\n",
       "    </tr>\n",
       "    <tr>\n",
       "      <th>1150</th>\n",
       "      <td>2016-12-31</td>\n",
       "      <td>01:07:00</td>\n",
       "      <td>2016-12-31</td>\n",
       "      <td>01:14:00</td>\n",
       "      <td>Business</td>\n",
       "      <td>Kar?chi</td>\n",
       "      <td>Kar?chi</td>\n",
       "      <td>0.7</td>\n",
       "      <td>Meeting</td>\n",
       "    </tr>\n",
       "    <tr>\n",
       "      <th>1151</th>\n",
       "      <td>2016-12-31</td>\n",
       "      <td>13:24:00</td>\n",
       "      <td>2016-12-31</td>\n",
       "      <td>13:42:00</td>\n",
       "      <td>Business</td>\n",
       "      <td>Kar?chi</td>\n",
       "      <td>Unknown Location</td>\n",
       "      <td>3.9</td>\n",
       "      <td>Temporary Site</td>\n",
       "    </tr>\n",
       "    <tr>\n",
       "      <th>1152</th>\n",
       "      <td>2016-12-31</td>\n",
       "      <td>15:03:00</td>\n",
       "      <td>2016-12-31</td>\n",
       "      <td>15:38:00</td>\n",
       "      <td>Business</td>\n",
       "      <td>Unknown Location</td>\n",
       "      <td>Unknown Location</td>\n",
       "      <td>16.2</td>\n",
       "      <td>Meeting</td>\n",
       "    </tr>\n",
       "    <tr>\n",
       "      <th>1153</th>\n",
       "      <td>2016-12-31</td>\n",
       "      <td>21:32:00</td>\n",
       "      <td>2016-12-31</td>\n",
       "      <td>21:50:00</td>\n",
       "      <td>Business</td>\n",
       "      <td>Katunayake</td>\n",
       "      <td>Gampaha</td>\n",
       "      <td>6.4</td>\n",
       "      <td>Temporary Site</td>\n",
       "    </tr>\n",
       "    <tr>\n",
       "      <th>1154</th>\n",
       "      <td>2016-12-31</td>\n",
       "      <td>22:08:00</td>\n",
       "      <td>2016-12-31</td>\n",
       "      <td>23:51:00</td>\n",
       "      <td>Business</td>\n",
       "      <td>Gampaha</td>\n",
       "      <td>Ilukwatta</td>\n",
       "      <td>48.2</td>\n",
       "      <td>Temporary Site</td>\n",
       "    </tr>\n",
       "  </tbody>\n",
       "</table>\n",
       "<p>1155 rows × 9 columns</p>\n",
       "</div>"
      ],
      "text/plain": [
       "     START_DATE START_TIME   END_DATE  END_TIME  CATEGORY             START  \\\n",
       "0    2016-01-01   21:11:00 2016-01-01  21:17:00  Business       Fort Pierce   \n",
       "1    2016-01-02   01:25:00 2016-01-02  01:37:00  Business       Fort Pierce   \n",
       "2    2016-01-02   20:25:00 2016-01-02  20:38:00  Business       Fort Pierce   \n",
       "3    2016-01-05   17:31:00 2016-01-05  17:45:00  Business       Fort Pierce   \n",
       "4    2016-01-06   14:42:00 2016-01-06  15:49:00  Business       Fort Pierce   \n",
       "...         ...        ...        ...       ...       ...               ...   \n",
       "1150 2016-12-31   01:07:00 2016-12-31  01:14:00  Business           Kar?chi   \n",
       "1151 2016-12-31   13:24:00 2016-12-31  13:42:00  Business           Kar?chi   \n",
       "1152 2016-12-31   15:03:00 2016-12-31  15:38:00  Business  Unknown Location   \n",
       "1153 2016-12-31   21:32:00 2016-12-31  21:50:00  Business        Katunayake   \n",
       "1154 2016-12-31   22:08:00 2016-12-31  23:51:00  Business           Gampaha   \n",
       "\n",
       "                  STOP  MILES          PURPOSE  \n",
       "0          Fort Pierce    5.1   Meal/Entertain  \n",
       "1          Fort Pierce    5.0              NaN  \n",
       "2          Fort Pierce    4.8  Errand/Supplies  \n",
       "3          Fort Pierce    4.7          Meeting  \n",
       "4      West Palm Beach   63.7   Customer Visit  \n",
       "...                ...    ...              ...  \n",
       "1150           Kar?chi    0.7          Meeting  \n",
       "1151  Unknown Location    3.9   Temporary Site  \n",
       "1152  Unknown Location   16.2          Meeting  \n",
       "1153           Gampaha    6.4   Temporary Site  \n",
       "1154         Ilukwatta   48.2   Temporary Site  \n",
       "\n",
       "[1155 rows x 9 columns]"
      ]
     },
     "execution_count": 5,
     "metadata": {},
     "output_type": "execute_result"
    }
   ],
   "source": [
    "df"
   ]
  },
  {
   "cell_type": "code",
   "execution_count": 6,
   "id": "c6e3311c",
   "metadata": {},
   "outputs": [
    {
     "name": "stdout",
     "output_type": "stream",
     "text": [
      "<class 'pandas.core.frame.DataFrame'>\n",
      "RangeIndex: 1155 entries, 0 to 1154\n",
      "Data columns (total 9 columns):\n",
      " #   Column      Non-Null Count  Dtype         \n",
      "---  ------      --------------  -----         \n",
      " 0   START_DATE  1155 non-null   datetime64[ns]\n",
      " 1   START_TIME  1153 non-null   object        \n",
      " 2   END_DATE    1155 non-null   datetime64[ns]\n",
      " 3   END_TIME    1155 non-null   object        \n",
      " 4   CATEGORY    1155 non-null   object        \n",
      " 5   START       1155 non-null   object        \n",
      " 6   STOP        1155 non-null   object        \n",
      " 7   MILES       1155 non-null   float64       \n",
      " 8   PURPOSE     653 non-null    object        \n",
      "dtypes: datetime64[ns](2), float64(1), object(6)\n",
      "memory usage: 81.3+ KB\n"
     ]
    }
   ],
   "source": [
    "df.info()"
   ]
  },
  {
   "cell_type": "code",
   "execution_count": 7,
   "id": "4a41f959",
   "metadata": {},
   "outputs": [
    {
     "data": {
      "text/plain": [
       "Index(['START_DATE', 'START_TIME', 'END_DATE', 'END_TIME', 'CATEGORY', 'START',\n",
       "       'STOP', 'MILES', 'PURPOSE'],\n",
       "      dtype='object')"
      ]
     },
     "execution_count": 7,
     "metadata": {},
     "output_type": "execute_result"
    }
   ],
   "source": [
    "df.columns"
   ]
  },
  {
   "cell_type": "code",
   "execution_count": 8,
   "id": "ca0b6c62",
   "metadata": {},
   "outputs": [
    {
     "data": {
      "text/plain": [
       "START_DATE    False\n",
       "START_TIME     True\n",
       "END_DATE      False\n",
       "END_TIME      False\n",
       "CATEGORY      False\n",
       "START         False\n",
       "STOP          False\n",
       "MILES         False\n",
       "PURPOSE        True\n",
       "dtype: bool"
      ]
     },
     "execution_count": 8,
     "metadata": {},
     "output_type": "execute_result"
    }
   ],
   "source": [
    "df.isnull().any()"
   ]
  },
  {
   "cell_type": "code",
   "execution_count": 9,
   "id": "c90d84cf",
   "metadata": {
    "scrolled": true
   },
   "outputs": [
    {
     "data": {
      "text/plain": [
       "START_DATE      0\n",
       "START_TIME      2\n",
       "END_DATE        0\n",
       "END_TIME        0\n",
       "CATEGORY        0\n",
       "START           0\n",
       "STOP            0\n",
       "MILES           0\n",
       "PURPOSE       502\n",
       "dtype: int64"
      ]
     },
     "execution_count": 9,
     "metadata": {},
     "output_type": "execute_result"
    }
   ],
   "source": [
    "df.isnull().sum()"
   ]
  },
  {
   "cell_type": "code",
   "execution_count": 10,
   "id": "5253657c",
   "metadata": {},
   "outputs": [],
   "source": [
    "df['START_TIME'] = df['START_TIME'].fillna('00:00:00')"
   ]
  },
  {
   "cell_type": "code",
   "execution_count": 11,
   "id": "01a5f663",
   "metadata": {},
   "outputs": [
    {
     "data": {
      "text/html": [
       "<div>\n",
       "<style scoped>\n",
       "    .dataframe tbody tr th:only-of-type {\n",
       "        vertical-align: middle;\n",
       "    }\n",
       "\n",
       "    .dataframe tbody tr th {\n",
       "        vertical-align: top;\n",
       "    }\n",
       "\n",
       "    .dataframe thead th {\n",
       "        text-align: right;\n",
       "    }\n",
       "</style>\n",
       "<table border=\"1\" class=\"dataframe\">\n",
       "  <thead>\n",
       "    <tr style=\"text-align: right;\">\n",
       "      <th></th>\n",
       "      <th>START_DATE</th>\n",
       "      <th>START_TIME</th>\n",
       "      <th>END_DATE</th>\n",
       "      <th>END_TIME</th>\n",
       "      <th>CATEGORY</th>\n",
       "      <th>START</th>\n",
       "      <th>STOP</th>\n",
       "      <th>MILES</th>\n",
       "      <th>PURPOSE</th>\n",
       "    </tr>\n",
       "  </thead>\n",
       "  <tbody>\n",
       "    <tr>\n",
       "      <th>492</th>\n",
       "      <td>2016-06-28</td>\n",
       "      <td>23:34:00</td>\n",
       "      <td>2016-06-28</td>\n",
       "      <td>23:59:00</td>\n",
       "      <td>Business</td>\n",
       "      <td>Durham</td>\n",
       "      <td>Cary</td>\n",
       "      <td>9.9</td>\n",
       "      <td>Meeting</td>\n",
       "    </tr>\n",
       "  </tbody>\n",
       "</table>\n",
       "</div>"
      ],
      "text/plain": [
       "    START_DATE START_TIME   END_DATE  END_TIME  CATEGORY   START  STOP  MILES  \\\n",
       "492 2016-06-28   23:34:00 2016-06-28  23:59:00  Business  Durham  Cary    9.9   \n",
       "\n",
       "     PURPOSE  \n",
       "492  Meeting  "
      ]
     },
     "execution_count": 11,
     "metadata": {},
     "output_type": "execute_result"
    }
   ],
   "source": [
    "df[df.duplicated()]"
   ]
  },
  {
   "cell_type": "code",
   "execution_count": 12,
   "id": "dad9505c",
   "metadata": {},
   "outputs": [
    {
     "data": {
      "text/html": [
       "<div>\n",
       "<style scoped>\n",
       "    .dataframe tbody tr th:only-of-type {\n",
       "        vertical-align: middle;\n",
       "    }\n",
       "\n",
       "    .dataframe tbody tr th {\n",
       "        vertical-align: top;\n",
       "    }\n",
       "\n",
       "    .dataframe thead th {\n",
       "        text-align: right;\n",
       "    }\n",
       "</style>\n",
       "<table border=\"1\" class=\"dataframe\">\n",
       "  <thead>\n",
       "    <tr style=\"text-align: right;\">\n",
       "      <th></th>\n",
       "      <th>START_DATE</th>\n",
       "      <th>START_TIME</th>\n",
       "      <th>END_DATE</th>\n",
       "      <th>END_TIME</th>\n",
       "      <th>CATEGORY</th>\n",
       "      <th>START</th>\n",
       "      <th>STOP</th>\n",
       "      <th>MILES</th>\n",
       "      <th>PURPOSE</th>\n",
       "    </tr>\n",
       "  </thead>\n",
       "  <tbody>\n",
       "    <tr>\n",
       "      <th>0</th>\n",
       "      <td>2016-01-01</td>\n",
       "      <td>21:11:00</td>\n",
       "      <td>2016-01-01</td>\n",
       "      <td>21:17:00</td>\n",
       "      <td>Business</td>\n",
       "      <td>Fort Pierce</td>\n",
       "      <td>Fort Pierce</td>\n",
       "      <td>5.1</td>\n",
       "      <td>Meal/Entertain</td>\n",
       "    </tr>\n",
       "    <tr>\n",
       "      <th>1</th>\n",
       "      <td>2016-01-02</td>\n",
       "      <td>01:25:00</td>\n",
       "      <td>2016-01-02</td>\n",
       "      <td>01:37:00</td>\n",
       "      <td>Business</td>\n",
       "      <td>Fort Pierce</td>\n",
       "      <td>Fort Pierce</td>\n",
       "      <td>5.0</td>\n",
       "      <td>NaN</td>\n",
       "    </tr>\n",
       "    <tr>\n",
       "      <th>2</th>\n",
       "      <td>2016-01-02</td>\n",
       "      <td>20:25:00</td>\n",
       "      <td>2016-01-02</td>\n",
       "      <td>20:38:00</td>\n",
       "      <td>Business</td>\n",
       "      <td>Fort Pierce</td>\n",
       "      <td>Fort Pierce</td>\n",
       "      <td>4.8</td>\n",
       "      <td>Errand/Supplies</td>\n",
       "    </tr>\n",
       "    <tr>\n",
       "      <th>3</th>\n",
       "      <td>2016-01-05</td>\n",
       "      <td>17:31:00</td>\n",
       "      <td>2016-01-05</td>\n",
       "      <td>17:45:00</td>\n",
       "      <td>Business</td>\n",
       "      <td>Fort Pierce</td>\n",
       "      <td>Fort Pierce</td>\n",
       "      <td>4.7</td>\n",
       "      <td>Meeting</td>\n",
       "    </tr>\n",
       "    <tr>\n",
       "      <th>4</th>\n",
       "      <td>2016-01-06</td>\n",
       "      <td>14:42:00</td>\n",
       "      <td>2016-01-06</td>\n",
       "      <td>15:49:00</td>\n",
       "      <td>Business</td>\n",
       "      <td>Fort Pierce</td>\n",
       "      <td>West Palm Beach</td>\n",
       "      <td>63.7</td>\n",
       "      <td>Customer Visit</td>\n",
       "    </tr>\n",
       "    <tr>\n",
       "      <th>...</th>\n",
       "      <td>...</td>\n",
       "      <td>...</td>\n",
       "      <td>...</td>\n",
       "      <td>...</td>\n",
       "      <td>...</td>\n",
       "      <td>...</td>\n",
       "      <td>...</td>\n",
       "      <td>...</td>\n",
       "      <td>...</td>\n",
       "    </tr>\n",
       "    <tr>\n",
       "      <th>1150</th>\n",
       "      <td>2016-12-31</td>\n",
       "      <td>01:07:00</td>\n",
       "      <td>2016-12-31</td>\n",
       "      <td>01:14:00</td>\n",
       "      <td>Business</td>\n",
       "      <td>Kar?chi</td>\n",
       "      <td>Kar?chi</td>\n",
       "      <td>0.7</td>\n",
       "      <td>Meeting</td>\n",
       "    </tr>\n",
       "    <tr>\n",
       "      <th>1151</th>\n",
       "      <td>2016-12-31</td>\n",
       "      <td>13:24:00</td>\n",
       "      <td>2016-12-31</td>\n",
       "      <td>13:42:00</td>\n",
       "      <td>Business</td>\n",
       "      <td>Kar?chi</td>\n",
       "      <td>Unknown Location</td>\n",
       "      <td>3.9</td>\n",
       "      <td>Temporary Site</td>\n",
       "    </tr>\n",
       "    <tr>\n",
       "      <th>1152</th>\n",
       "      <td>2016-12-31</td>\n",
       "      <td>15:03:00</td>\n",
       "      <td>2016-12-31</td>\n",
       "      <td>15:38:00</td>\n",
       "      <td>Business</td>\n",
       "      <td>Unknown Location</td>\n",
       "      <td>Unknown Location</td>\n",
       "      <td>16.2</td>\n",
       "      <td>Meeting</td>\n",
       "    </tr>\n",
       "    <tr>\n",
       "      <th>1153</th>\n",
       "      <td>2016-12-31</td>\n",
       "      <td>21:32:00</td>\n",
       "      <td>2016-12-31</td>\n",
       "      <td>21:50:00</td>\n",
       "      <td>Business</td>\n",
       "      <td>Katunayake</td>\n",
       "      <td>Gampaha</td>\n",
       "      <td>6.4</td>\n",
       "      <td>Temporary Site</td>\n",
       "    </tr>\n",
       "    <tr>\n",
       "      <th>1154</th>\n",
       "      <td>2016-12-31</td>\n",
       "      <td>22:08:00</td>\n",
       "      <td>2016-12-31</td>\n",
       "      <td>23:51:00</td>\n",
       "      <td>Business</td>\n",
       "      <td>Gampaha</td>\n",
       "      <td>Ilukwatta</td>\n",
       "      <td>48.2</td>\n",
       "      <td>Temporary Site</td>\n",
       "    </tr>\n",
       "  </tbody>\n",
       "</table>\n",
       "<p>1154 rows × 9 columns</p>\n",
       "</div>"
      ],
      "text/plain": [
       "     START_DATE START_TIME   END_DATE  END_TIME  CATEGORY             START  \\\n",
       "0    2016-01-01   21:11:00 2016-01-01  21:17:00  Business       Fort Pierce   \n",
       "1    2016-01-02   01:25:00 2016-01-02  01:37:00  Business       Fort Pierce   \n",
       "2    2016-01-02   20:25:00 2016-01-02  20:38:00  Business       Fort Pierce   \n",
       "3    2016-01-05   17:31:00 2016-01-05  17:45:00  Business       Fort Pierce   \n",
       "4    2016-01-06   14:42:00 2016-01-06  15:49:00  Business       Fort Pierce   \n",
       "...         ...        ...        ...       ...       ...               ...   \n",
       "1150 2016-12-31   01:07:00 2016-12-31  01:14:00  Business           Kar?chi   \n",
       "1151 2016-12-31   13:24:00 2016-12-31  13:42:00  Business           Kar?chi   \n",
       "1152 2016-12-31   15:03:00 2016-12-31  15:38:00  Business  Unknown Location   \n",
       "1153 2016-12-31   21:32:00 2016-12-31  21:50:00  Business        Katunayake   \n",
       "1154 2016-12-31   22:08:00 2016-12-31  23:51:00  Business           Gampaha   \n",
       "\n",
       "                  STOP  MILES          PURPOSE  \n",
       "0          Fort Pierce    5.1   Meal/Entertain  \n",
       "1          Fort Pierce    5.0              NaN  \n",
       "2          Fort Pierce    4.8  Errand/Supplies  \n",
       "3          Fort Pierce    4.7          Meeting  \n",
       "4      West Palm Beach   63.7   Customer Visit  \n",
       "...                ...    ...              ...  \n",
       "1150           Kar?chi    0.7          Meeting  \n",
       "1151  Unknown Location    3.9   Temporary Site  \n",
       "1152  Unknown Location   16.2          Meeting  \n",
       "1153           Gampaha    6.4   Temporary Site  \n",
       "1154         Ilukwatta   48.2   Temporary Site  \n",
       "\n",
       "[1154 rows x 9 columns]"
      ]
     },
     "execution_count": 12,
     "metadata": {},
     "output_type": "execute_result"
    }
   ],
   "source": [
    "df.drop_duplicates()"
   ]
  },
  {
   "cell_type": "code",
   "execution_count": 13,
   "id": "6630cd0b",
   "metadata": {},
   "outputs": [
    {
     "data": {
      "text/html": [
       "<div>\n",
       "<style scoped>\n",
       "    .dataframe tbody tr th:only-of-type {\n",
       "        vertical-align: middle;\n",
       "    }\n",
       "\n",
       "    .dataframe tbody tr th {\n",
       "        vertical-align: top;\n",
       "    }\n",
       "\n",
       "    .dataframe thead th {\n",
       "        text-align: right;\n",
       "    }\n",
       "</style>\n",
       "<table border=\"1\" class=\"dataframe\">\n",
       "  <thead>\n",
       "    <tr style=\"text-align: right;\">\n",
       "      <th></th>\n",
       "      <th>START_DATE</th>\n",
       "      <th>START_TIME</th>\n",
       "      <th>END_DATE</th>\n",
       "      <th>END_TIME</th>\n",
       "      <th>CATEGORY</th>\n",
       "      <th>START</th>\n",
       "      <th>STOP</th>\n",
       "      <th>MILES</th>\n",
       "      <th>PURPOSE</th>\n",
       "    </tr>\n",
       "  </thead>\n",
       "  <tbody>\n",
       "    <tr>\n",
       "      <th>0</th>\n",
       "      <td>2016-01-01</td>\n",
       "      <td>21:11:00</td>\n",
       "      <td>2016-01-01</td>\n",
       "      <td>21:17:00</td>\n",
       "      <td>Business</td>\n",
       "      <td>Fort Pierce</td>\n",
       "      <td>Fort Pierce</td>\n",
       "      <td>5.1</td>\n",
       "      <td>Meal/Entertain</td>\n",
       "    </tr>\n",
       "    <tr>\n",
       "      <th>2</th>\n",
       "      <td>2016-01-02</td>\n",
       "      <td>20:25:00</td>\n",
       "      <td>2016-01-02</td>\n",
       "      <td>20:38:00</td>\n",
       "      <td>Business</td>\n",
       "      <td>Fort Pierce</td>\n",
       "      <td>Fort Pierce</td>\n",
       "      <td>4.8</td>\n",
       "      <td>Errand/Supplies</td>\n",
       "    </tr>\n",
       "    <tr>\n",
       "      <th>3</th>\n",
       "      <td>2016-01-05</td>\n",
       "      <td>17:31:00</td>\n",
       "      <td>2016-01-05</td>\n",
       "      <td>17:45:00</td>\n",
       "      <td>Business</td>\n",
       "      <td>Fort Pierce</td>\n",
       "      <td>Fort Pierce</td>\n",
       "      <td>4.7</td>\n",
       "      <td>Meeting</td>\n",
       "    </tr>\n",
       "    <tr>\n",
       "      <th>4</th>\n",
       "      <td>2016-01-06</td>\n",
       "      <td>14:42:00</td>\n",
       "      <td>2016-01-06</td>\n",
       "      <td>15:49:00</td>\n",
       "      <td>Business</td>\n",
       "      <td>Fort Pierce</td>\n",
       "      <td>West Palm Beach</td>\n",
       "      <td>63.7</td>\n",
       "      <td>Customer Visit</td>\n",
       "    </tr>\n",
       "    <tr>\n",
       "      <th>5</th>\n",
       "      <td>2016-01-06</td>\n",
       "      <td>17:15:00</td>\n",
       "      <td>2016-01-06</td>\n",
       "      <td>17:19:00</td>\n",
       "      <td>Business</td>\n",
       "      <td>West Palm Beach</td>\n",
       "      <td>West Palm Beach</td>\n",
       "      <td>4.3</td>\n",
       "      <td>Meal/Entertain</td>\n",
       "    </tr>\n",
       "    <tr>\n",
       "      <th>...</th>\n",
       "      <td>...</td>\n",
       "      <td>...</td>\n",
       "      <td>...</td>\n",
       "      <td>...</td>\n",
       "      <td>...</td>\n",
       "      <td>...</td>\n",
       "      <td>...</td>\n",
       "      <td>...</td>\n",
       "      <td>...</td>\n",
       "    </tr>\n",
       "    <tr>\n",
       "      <th>1150</th>\n",
       "      <td>2016-12-31</td>\n",
       "      <td>01:07:00</td>\n",
       "      <td>2016-12-31</td>\n",
       "      <td>01:14:00</td>\n",
       "      <td>Business</td>\n",
       "      <td>Kar?chi</td>\n",
       "      <td>Kar?chi</td>\n",
       "      <td>0.7</td>\n",
       "      <td>Meeting</td>\n",
       "    </tr>\n",
       "    <tr>\n",
       "      <th>1151</th>\n",
       "      <td>2016-12-31</td>\n",
       "      <td>13:24:00</td>\n",
       "      <td>2016-12-31</td>\n",
       "      <td>13:42:00</td>\n",
       "      <td>Business</td>\n",
       "      <td>Kar?chi</td>\n",
       "      <td>Unknown Location</td>\n",
       "      <td>3.9</td>\n",
       "      <td>Temporary Site</td>\n",
       "    </tr>\n",
       "    <tr>\n",
       "      <th>1152</th>\n",
       "      <td>2016-12-31</td>\n",
       "      <td>15:03:00</td>\n",
       "      <td>2016-12-31</td>\n",
       "      <td>15:38:00</td>\n",
       "      <td>Business</td>\n",
       "      <td>Unknown Location</td>\n",
       "      <td>Unknown Location</td>\n",
       "      <td>16.2</td>\n",
       "      <td>Meeting</td>\n",
       "    </tr>\n",
       "    <tr>\n",
       "      <th>1153</th>\n",
       "      <td>2016-12-31</td>\n",
       "      <td>21:32:00</td>\n",
       "      <td>2016-12-31</td>\n",
       "      <td>21:50:00</td>\n",
       "      <td>Business</td>\n",
       "      <td>Katunayake</td>\n",
       "      <td>Gampaha</td>\n",
       "      <td>6.4</td>\n",
       "      <td>Temporary Site</td>\n",
       "    </tr>\n",
       "    <tr>\n",
       "      <th>1154</th>\n",
       "      <td>2016-12-31</td>\n",
       "      <td>22:08:00</td>\n",
       "      <td>2016-12-31</td>\n",
       "      <td>23:51:00</td>\n",
       "      <td>Business</td>\n",
       "      <td>Gampaha</td>\n",
       "      <td>Ilukwatta</td>\n",
       "      <td>48.2</td>\n",
       "      <td>Temporary Site</td>\n",
       "    </tr>\n",
       "  </tbody>\n",
       "</table>\n",
       "<p>653 rows × 9 columns</p>\n",
       "</div>"
      ],
      "text/plain": [
       "     START_DATE START_TIME   END_DATE  END_TIME  CATEGORY             START  \\\n",
       "0    2016-01-01   21:11:00 2016-01-01  21:17:00  Business       Fort Pierce   \n",
       "2    2016-01-02   20:25:00 2016-01-02  20:38:00  Business       Fort Pierce   \n",
       "3    2016-01-05   17:31:00 2016-01-05  17:45:00  Business       Fort Pierce   \n",
       "4    2016-01-06   14:42:00 2016-01-06  15:49:00  Business       Fort Pierce   \n",
       "5    2016-01-06   17:15:00 2016-01-06  17:19:00  Business   West Palm Beach   \n",
       "...         ...        ...        ...       ...       ...               ...   \n",
       "1150 2016-12-31   01:07:00 2016-12-31  01:14:00  Business           Kar?chi   \n",
       "1151 2016-12-31   13:24:00 2016-12-31  13:42:00  Business           Kar?chi   \n",
       "1152 2016-12-31   15:03:00 2016-12-31  15:38:00  Business  Unknown Location   \n",
       "1153 2016-12-31   21:32:00 2016-12-31  21:50:00  Business        Katunayake   \n",
       "1154 2016-12-31   22:08:00 2016-12-31  23:51:00  Business           Gampaha   \n",
       "\n",
       "                  STOP  MILES          PURPOSE  \n",
       "0          Fort Pierce    5.1   Meal/Entertain  \n",
       "2          Fort Pierce    4.8  Errand/Supplies  \n",
       "3          Fort Pierce    4.7          Meeting  \n",
       "4      West Palm Beach   63.7   Customer Visit  \n",
       "5      West Palm Beach    4.3   Meal/Entertain  \n",
       "...                ...    ...              ...  \n",
       "1150           Kar?chi    0.7          Meeting  \n",
       "1151  Unknown Location    3.9   Temporary Site  \n",
       "1152  Unknown Location   16.2          Meeting  \n",
       "1153           Gampaha    6.4   Temporary Site  \n",
       "1154         Ilukwatta   48.2   Temporary Site  \n",
       "\n",
       "[653 rows x 9 columns]"
      ]
     },
     "execution_count": 13,
     "metadata": {},
     "output_type": "execute_result"
    }
   ],
   "source": [
    "df=df.dropna()\n",
    "df"
   ]
  },
  {
   "cell_type": "code",
   "execution_count": 14,
   "id": "6b2362cf",
   "metadata": {},
   "outputs": [
    {
     "data": {
      "text/plain": [
       "(653, 9)"
      ]
     },
     "execution_count": 14,
     "metadata": {},
     "output_type": "execute_result"
    }
   ],
   "source": [
    "df.shape"
   ]
  },
  {
   "cell_type": "code",
   "execution_count": 15,
   "id": "d328f59d",
   "metadata": {},
   "outputs": [
    {
     "name": "stderr",
     "output_type": "stream",
     "text": [
      "C:\\Users\\mehak\\AppData\\Local\\Temp/ipykernel_20208/2240515002.py:1: SettingWithCopyWarning: \n",
      "A value is trying to be set on a copy of a slice from a DataFrame.\n",
      "Try using .loc[row_indexer,col_indexer] = value instead\n",
      "\n",
      "See the caveats in the documentation: https://pandas.pydata.org/pandas-docs/stable/user_guide/indexing.html#returning-a-view-versus-a-copy\n",
      "  df['week_day']=df['START_DATE'].dt.day_name()\n"
     ]
    }
   ],
   "source": [
    "df['week_day']=df['START_DATE'].dt.day_name()"
   ]
  },
  {
   "cell_type": "code",
   "execution_count": 16,
   "id": "975887bf",
   "metadata": {},
   "outputs": [
    {
     "data": {
      "text/html": [
       "<div>\n",
       "<style scoped>\n",
       "    .dataframe tbody tr th:only-of-type {\n",
       "        vertical-align: middle;\n",
       "    }\n",
       "\n",
       "    .dataframe tbody tr th {\n",
       "        vertical-align: top;\n",
       "    }\n",
       "\n",
       "    .dataframe thead th {\n",
       "        text-align: right;\n",
       "    }\n",
       "</style>\n",
       "<table border=\"1\" class=\"dataframe\">\n",
       "  <thead>\n",
       "    <tr style=\"text-align: right;\">\n",
       "      <th></th>\n",
       "      <th>START_DATE</th>\n",
       "      <th>START_TIME</th>\n",
       "      <th>END_DATE</th>\n",
       "      <th>END_TIME</th>\n",
       "      <th>CATEGORY</th>\n",
       "      <th>START</th>\n",
       "      <th>STOP</th>\n",
       "      <th>MILES</th>\n",
       "      <th>PURPOSE</th>\n",
       "      <th>week_day</th>\n",
       "    </tr>\n",
       "  </thead>\n",
       "  <tbody>\n",
       "    <tr>\n",
       "      <th>0</th>\n",
       "      <td>2016-01-01</td>\n",
       "      <td>21:11:00</td>\n",
       "      <td>2016-01-01</td>\n",
       "      <td>21:17:00</td>\n",
       "      <td>Business</td>\n",
       "      <td>Fort Pierce</td>\n",
       "      <td>Fort Pierce</td>\n",
       "      <td>5.1</td>\n",
       "      <td>Meal/Entertain</td>\n",
       "      <td>Friday</td>\n",
       "    </tr>\n",
       "    <tr>\n",
       "      <th>2</th>\n",
       "      <td>2016-01-02</td>\n",
       "      <td>20:25:00</td>\n",
       "      <td>2016-01-02</td>\n",
       "      <td>20:38:00</td>\n",
       "      <td>Business</td>\n",
       "      <td>Fort Pierce</td>\n",
       "      <td>Fort Pierce</td>\n",
       "      <td>4.8</td>\n",
       "      <td>Errand/Supplies</td>\n",
       "      <td>Saturday</td>\n",
       "    </tr>\n",
       "    <tr>\n",
       "      <th>3</th>\n",
       "      <td>2016-01-05</td>\n",
       "      <td>17:31:00</td>\n",
       "      <td>2016-01-05</td>\n",
       "      <td>17:45:00</td>\n",
       "      <td>Business</td>\n",
       "      <td>Fort Pierce</td>\n",
       "      <td>Fort Pierce</td>\n",
       "      <td>4.7</td>\n",
       "      <td>Meeting</td>\n",
       "      <td>Tuesday</td>\n",
       "    </tr>\n",
       "    <tr>\n",
       "      <th>4</th>\n",
       "      <td>2016-01-06</td>\n",
       "      <td>14:42:00</td>\n",
       "      <td>2016-01-06</td>\n",
       "      <td>15:49:00</td>\n",
       "      <td>Business</td>\n",
       "      <td>Fort Pierce</td>\n",
       "      <td>West Palm Beach</td>\n",
       "      <td>63.7</td>\n",
       "      <td>Customer Visit</td>\n",
       "      <td>Wednesday</td>\n",
       "    </tr>\n",
       "    <tr>\n",
       "      <th>5</th>\n",
       "      <td>2016-01-06</td>\n",
       "      <td>17:15:00</td>\n",
       "      <td>2016-01-06</td>\n",
       "      <td>17:19:00</td>\n",
       "      <td>Business</td>\n",
       "      <td>West Palm Beach</td>\n",
       "      <td>West Palm Beach</td>\n",
       "      <td>4.3</td>\n",
       "      <td>Meal/Entertain</td>\n",
       "      <td>Wednesday</td>\n",
       "    </tr>\n",
       "    <tr>\n",
       "      <th>...</th>\n",
       "      <td>...</td>\n",
       "      <td>...</td>\n",
       "      <td>...</td>\n",
       "      <td>...</td>\n",
       "      <td>...</td>\n",
       "      <td>...</td>\n",
       "      <td>...</td>\n",
       "      <td>...</td>\n",
       "      <td>...</td>\n",
       "      <td>...</td>\n",
       "    </tr>\n",
       "    <tr>\n",
       "      <th>1150</th>\n",
       "      <td>2016-12-31</td>\n",
       "      <td>01:07:00</td>\n",
       "      <td>2016-12-31</td>\n",
       "      <td>01:14:00</td>\n",
       "      <td>Business</td>\n",
       "      <td>Kar?chi</td>\n",
       "      <td>Kar?chi</td>\n",
       "      <td>0.7</td>\n",
       "      <td>Meeting</td>\n",
       "      <td>Saturday</td>\n",
       "    </tr>\n",
       "    <tr>\n",
       "      <th>1151</th>\n",
       "      <td>2016-12-31</td>\n",
       "      <td>13:24:00</td>\n",
       "      <td>2016-12-31</td>\n",
       "      <td>13:42:00</td>\n",
       "      <td>Business</td>\n",
       "      <td>Kar?chi</td>\n",
       "      <td>Unknown Location</td>\n",
       "      <td>3.9</td>\n",
       "      <td>Temporary Site</td>\n",
       "      <td>Saturday</td>\n",
       "    </tr>\n",
       "    <tr>\n",
       "      <th>1152</th>\n",
       "      <td>2016-12-31</td>\n",
       "      <td>15:03:00</td>\n",
       "      <td>2016-12-31</td>\n",
       "      <td>15:38:00</td>\n",
       "      <td>Business</td>\n",
       "      <td>Unknown Location</td>\n",
       "      <td>Unknown Location</td>\n",
       "      <td>16.2</td>\n",
       "      <td>Meeting</td>\n",
       "      <td>Saturday</td>\n",
       "    </tr>\n",
       "    <tr>\n",
       "      <th>1153</th>\n",
       "      <td>2016-12-31</td>\n",
       "      <td>21:32:00</td>\n",
       "      <td>2016-12-31</td>\n",
       "      <td>21:50:00</td>\n",
       "      <td>Business</td>\n",
       "      <td>Katunayake</td>\n",
       "      <td>Gampaha</td>\n",
       "      <td>6.4</td>\n",
       "      <td>Temporary Site</td>\n",
       "      <td>Saturday</td>\n",
       "    </tr>\n",
       "    <tr>\n",
       "      <th>1154</th>\n",
       "      <td>2016-12-31</td>\n",
       "      <td>22:08:00</td>\n",
       "      <td>2016-12-31</td>\n",
       "      <td>23:51:00</td>\n",
       "      <td>Business</td>\n",
       "      <td>Gampaha</td>\n",
       "      <td>Ilukwatta</td>\n",
       "      <td>48.2</td>\n",
       "      <td>Temporary Site</td>\n",
       "      <td>Saturday</td>\n",
       "    </tr>\n",
       "  </tbody>\n",
       "</table>\n",
       "<p>653 rows × 10 columns</p>\n",
       "</div>"
      ],
      "text/plain": [
       "     START_DATE START_TIME   END_DATE  END_TIME  CATEGORY             START  \\\n",
       "0    2016-01-01   21:11:00 2016-01-01  21:17:00  Business       Fort Pierce   \n",
       "2    2016-01-02   20:25:00 2016-01-02  20:38:00  Business       Fort Pierce   \n",
       "3    2016-01-05   17:31:00 2016-01-05  17:45:00  Business       Fort Pierce   \n",
       "4    2016-01-06   14:42:00 2016-01-06  15:49:00  Business       Fort Pierce   \n",
       "5    2016-01-06   17:15:00 2016-01-06  17:19:00  Business   West Palm Beach   \n",
       "...         ...        ...        ...       ...       ...               ...   \n",
       "1150 2016-12-31   01:07:00 2016-12-31  01:14:00  Business           Kar?chi   \n",
       "1151 2016-12-31   13:24:00 2016-12-31  13:42:00  Business           Kar?chi   \n",
       "1152 2016-12-31   15:03:00 2016-12-31  15:38:00  Business  Unknown Location   \n",
       "1153 2016-12-31   21:32:00 2016-12-31  21:50:00  Business        Katunayake   \n",
       "1154 2016-12-31   22:08:00 2016-12-31  23:51:00  Business           Gampaha   \n",
       "\n",
       "                  STOP  MILES          PURPOSE   week_day  \n",
       "0          Fort Pierce    5.1   Meal/Entertain     Friday  \n",
       "2          Fort Pierce    4.8  Errand/Supplies   Saturday  \n",
       "3          Fort Pierce    4.7          Meeting    Tuesday  \n",
       "4      West Palm Beach   63.7   Customer Visit  Wednesday  \n",
       "5      West Palm Beach    4.3   Meal/Entertain  Wednesday  \n",
       "...                ...    ...              ...        ...  \n",
       "1150           Kar?chi    0.7          Meeting   Saturday  \n",
       "1151  Unknown Location    3.9   Temporary Site   Saturday  \n",
       "1152  Unknown Location   16.2          Meeting   Saturday  \n",
       "1153           Gampaha    6.4   Temporary Site   Saturday  \n",
       "1154         Ilukwatta   48.2   Temporary Site   Saturday  \n",
       "\n",
       "[653 rows x 10 columns]"
      ]
     },
     "execution_count": 16,
     "metadata": {},
     "output_type": "execute_result"
    }
   ],
   "source": [
    "df"
   ]
  },
  {
   "cell_type": "markdown",
   "id": "da7a228c",
   "metadata": {},
   "source": [
    "## Day wise distribution"
   ]
  },
  {
   "cell_type": "code",
   "execution_count": 17,
   "id": "4f70645e",
   "metadata": {},
   "outputs": [
    {
     "data": {
      "text/plain": [
       "Friday       125\n",
       "Tuesday       94\n",
       "Thursday      92\n",
       "Sunday        87\n",
       "Monday        87\n",
       "Wednesday     85\n",
       "Saturday      83\n",
       "Name: week_day, dtype: int64"
      ]
     },
     "execution_count": 17,
     "metadata": {},
     "output_type": "execute_result"
    },
    {
     "data": {
      "image/png": "[encoded data removed]",
      "text/plain": [
       "<Figure size 1080x576 with 1 Axes>"
      ]
     },
     "metadata": {},
     "output_type": "display_data"
    }
   ],
   "source": [
    "g1 = sns.countplot(x='week_day',data=df)\n",
    "day_counts = df['week_day'].value_counts()\n",
    "day_counts"
   ]
  },
  {
   "cell_type": "markdown",
   "id": "05565176",
   "metadata": {},
   "source": [
    "## Category wise distribution"
   ]
  },
  {
   "cell_type": "code",
   "execution_count": 18,
   "id": "68388157",
   "metadata": {},
   "outputs": [
    {
     "data": {
      "text/plain": [
       "Business    647\n",
       "Personal      6\n",
       "Name: CATEGORY, dtype: int64"
      ]
     },
     "execution_count": 18,
     "metadata": {},
     "output_type": "execute_result"
    },
    {
     "data": {
      "image/png": "[encoded data removed]",
      "text/plain": [
       "<Figure size 1080x576 with 1 Axes>"
      ]
     },
     "metadata": {},
     "output_type": "display_data"
    }
   ],
   "source": [
    "g2 = sns.countplot(x='CATEGORY',data=df)\n",
    "cat_counts = df['CATEGORY'].value_counts()\n",
    "cat_counts"
   ]
  },
  {
   "cell_type": "markdown",
   "id": "208bd8b8",
   "metadata": {},
   "source": [
    "## For Local distance or not"
   ]
  },
  {
   "cell_type": "code",
   "execution_count": 19,
   "id": "cbb578ab",
   "metadata": {},
   "outputs": [
    {
     "name": "stderr",
     "output_type": "stream",
     "text": [
      "C:\\Users\\mehak\\AppData\\Local\\Temp/ipykernel_20208/1482409857.py:1: SettingWithCopyWarning: \n",
      "A value is trying to be set on a copy of a slice from a DataFrame.\n",
      "Try using .loc[row_indexer,col_indexer] = value instead\n",
      "\n",
      "See the caveats in the documentation: https://pandas.pydata.org/pandas-docs/stable/user_guide/indexing.html#returning-a-view-versus-a-copy\n",
      "  df['Local_Dist'] = df['MILES']<=10\n"
     ]
    },
    {
     "data": {
      "text/plain": [
       "True     468\n",
       "False    185\n",
       "Name: Local_Dist, dtype: int64"
      ]
     },
     "execution_count": 19,
     "metadata": {},
     "output_type": "execute_result"
    }
   ],
   "source": [
    "df['Local_Dist'] = df['MILES']<=10\n",
    "df['Local_Dist'].value_counts()"
   ]
  },
  {
   "cell_type": "markdown",
   "id": "fde74654",
   "metadata": {},
   "source": [
    "## Purposewise Distribution"
   ]
  },
  {
   "cell_type": "code",
   "execution_count": 20,
   "id": "b545253a",
   "metadata": {},
   "outputs": [
    {
     "data": {
      "text/plain": [
       "Meeting            187\n",
       "Meal/Entertain     160\n",
       "Errand/Supplies    128\n",
       "Customer Visit     101\n",
       "Temporary Site      50\n",
       "Between Offices     18\n",
       "Moving               4\n",
       "Airport/Travel       3\n",
       "Charity ($)          1\n",
       "Commute              1\n",
       "Name: PURPOSE, dtype: int64"
      ]
     },
     "execution_count": 20,
     "metadata": {},
     "output_type": "execute_result"
    },
    {
     "data": {
      "image/png": "[encoded data removed]",
      "text/plain": [
       "<Figure size 1080x576 with 1 Axes>"
      ]
     },
     "metadata": {},
     "output_type": "display_data"
    }
   ],
   "source": [
    "g4 = sns.countplot(y='PURPOSE',data=df)\n",
    "purpose_counts = df['PURPOSE'].value_counts()\n",
    "purpose_counts"
   ]
  },
  {
   "cell_type": "markdown",
   "id": "ea3f0e0c",
   "metadata": {},
   "source": [
    "## Average length of trip"
   ]
  },
  {
   "cell_type": "code",
   "execution_count": 21,
   "id": "73db2f47",
   "metadata": {},
   "outputs": [
    {
     "data": {
      "text/plain": [
       "11.196324655436444"
      ]
     },
     "execution_count": 21,
     "metadata": {},
     "output_type": "execute_result"
    }
   ],
   "source": [
    "df['MILES'].mean()"
   ]
  },
  {
   "cell_type": "markdown",
   "id": "51db4c07",
   "metadata": {},
   "source": [
    "## trips per day"
   ]
  },
  {
   "cell_type": "code",
   "execution_count": 22,
   "id": "5f4bcd5b",
   "metadata": {},
   "outputs": [
    {
     "name": "stderr",
     "output_type": "stream",
     "text": [
      "C:\\Users\\mehak\\AppData\\Local\\Temp/ipykernel_20208/1795520228.py:1: SettingWithCopyWarning: \n",
      "A value is trying to be set on a copy of a slice from a DataFrame.\n",
      "Try using .loc[row_indexer,col_indexer] = value instead\n",
      "\n",
      "See the caveats in the documentation: https://pandas.pydata.org/pandas-docs/stable/user_guide/indexing.html#returning-a-view-versus-a-copy\n",
      "  df['DAY'] = df['START_DATE'].dt.day\n"
     ]
    },
    {
     "data": {
      "text/plain": [
       "21    31\n",
       "29    30\n",
       "19    30\n",
       "18    30\n",
       "4     28\n",
       "28    27\n",
       "12    27\n",
       "8     25\n",
       "1     25\n",
       "22    24\n",
       "7     23\n",
       "20    22\n",
       "6     22\n",
       "14    21\n",
       "11    21\n",
       "5     21\n",
       "3     20\n",
       "26    20\n",
       "27    20\n",
       "25    19\n",
       "10    19\n",
       "2     18\n",
       "24    18\n",
       "13    17\n",
       "15    16\n",
       "17    16\n",
       "16    15\n",
       "23    14\n",
       "30    12\n",
       "9     12\n",
       "31    10\n",
       "Name: DAY, dtype: int64"
      ]
     },
     "execution_count": 22,
     "metadata": {},
     "output_type": "execute_result"
    },
    {
     "data": {
      "image/png": "[encoded data removed]",
      "text/plain": [
       "<Figure size 1080x576 with 1 Axes>"
      ]
     },
     "metadata": {},
     "output_type": "display_data"
    }
   ],
   "source": [
    "df['DAY'] = df['START_DATE'].dt.day\n",
    "g5 = sns.countplot(x='DAY',data=df)\n",
    "\n",
    "day_counts = df['DAY'].value_counts()\n",
    "day_counts"
   ]
  },
  {
   "cell_type": "markdown",
   "id": "70559681",
   "metadata": {},
   "source": [
    "## Trips per week"
   ]
  },
  {
   "cell_type": "code",
   "execution_count": 23,
   "id": "a0680541",
   "metadata": {},
   "outputs": [
    {
     "name": "stderr",
     "output_type": "stream",
     "text": [
      "C:\\Users\\mehak\\AppData\\Local\\Temp/ipykernel_20208/3708630543.py:1: FutureWarning: Series.dt.weekofyear and Series.dt.week have been deprecated.  Please use Series.dt.isocalendar().week instead.\n",
      "  df['week'] = df['START_DATE'].dt.week\n",
      "C:\\Users\\mehak\\AppData\\Local\\Temp/ipykernel_20208/3708630543.py:1: SettingWithCopyWarning: \n",
      "A value is trying to be set on a copy of a slice from a DataFrame.\n",
      "Try using .loc[row_indexer,col_indexer] = value instead\n",
      "\n",
      "See the caveats in the documentation: https://pandas.pydata.org/pandas-docs/stable/user_guide/indexing.html#returning-a-view-versus-a-copy\n",
      "  df['week'] = df['START_DATE'].dt.week\n"
     ]
    },
    {
     "data": {
      "text/plain": [
       "51    48\n",
       "52    40\n",
       "7     29\n",
       "23    26\n",
       "11    24\n",
       "9     23\n",
       "5     22\n",
       "4     21\n",
       "49    20\n",
       "46    19\n",
       "6     18\n",
       "47    18\n",
       "2     17\n",
       "29    17\n",
       "26    17\n",
       "22    17\n",
       "10    15\n",
       "50    14\n",
       "48    14\n",
       "45    14\n",
       "17    14\n",
       "25    13\n",
       "18    13\n",
       "27    12\n",
       "24    12\n",
       "15    12\n",
       "13    11\n",
       "16    11\n",
       "1     10\n",
       "43    10\n",
       "20    10\n",
       "19    10\n",
       "8     10\n",
       "3      9\n",
       "12     9\n",
       "14     9\n",
       "44     8\n",
       "21     7\n",
       "41     5\n",
       "33     5\n",
       "28     4\n",
       "42     3\n",
       "32     3\n",
       "31     3\n",
       "30     3\n",
       "53     2\n",
       "40     1\n",
       "35     1\n",
       "Name: week, dtype: int64"
      ]
     },
     "execution_count": 23,
     "metadata": {},
     "output_type": "execute_result"
    },
    {
     "data": {
      "image/png": "[encoded data removed]",
      "text/plain": [
       "<Figure size 1080x576 with 1 Axes>"
      ]
     },
     "metadata": {},
     "output_type": "display_data"
    }
   ],
   "source": [
    "df['week'] = df['START_DATE'].dt.week\n",
    "g5 = sns.countplot(x='week',data=df)\n",
    "week_counts = df['week'].value_counts()\n",
    "week_counts"
   ]
  },
  {
   "cell_type": "markdown",
   "id": "5b26a080",
   "metadata": {},
   "source": [
    "## trips per month"
   ]
  },
  {
   "cell_type": "code",
   "execution_count": 24,
   "id": "b8857143",
   "metadata": {},
   "outputs": [
    {
     "name": "stderr",
     "output_type": "stream",
     "text": [
      "C:\\Users\\mehak\\AppData\\Local\\Temp/ipykernel_20208/3655935866.py:1: SettingWithCopyWarning: \n",
      "A value is trying to be set on a copy of a slice from a DataFrame.\n",
      "Try using .loc[row_indexer,col_indexer] = value instead\n",
      "\n",
      "See the caveats in the documentation: https://pandas.pydata.org/pandas-docs/stable/user_guide/indexing.html#returning-a-view-versus-a-copy\n",
      "  df['month'] = df['START_DATE'].dt.month\n"
     ]
    },
    {
     "data": {
      "text/plain": [
       "12    134\n",
       "2      82\n",
       "6      73\n",
       "3      71\n",
       "11     60\n",
       "1      59\n",
       "4      50\n",
       "5      46\n",
       "7      46\n",
       "10     20\n",
       "8      12\n",
       "Name: month, dtype: int64"
      ]
     },
     "execution_count": 24,
     "metadata": {},
     "output_type": "execute_result"
    },
    {
     "data": {
      "image/png": "[encoded data removed]",
      "text/plain": [
       "<Figure size 1080x576 with 1 Axes>"
      ]
     },
     "metadata": {},
     "output_type": "display_data"
    }
   ],
   "source": [
    "df['month'] = df['START_DATE'].dt.month\n",
    "g5 = sns.countplot(x='month',data=df)\n",
    "\n",
    "month_counts = df['month'].value_counts()\n",
    "month_counts"
   ]
  },
  {
   "cell_type": "markdown",
   "id": "976fb3c4",
   "metadata": {},
   "source": [
    "## Hourwise distribution"
   ]
  },
  {
   "cell_type": "code",
   "execution_count": 25,
   "id": "11cfe93b",
   "metadata": {},
   "outputs": [
    {
     "name": "stderr",
     "output_type": "stream",
     "text": [
      "C:\\Users\\mehak\\AppData\\Local\\Temp/ipykernel_20208/2039689011.py:1: SettingWithCopyWarning: \n",
      "A value is trying to be set on a copy of a slice from a DataFrame.\n",
      "Try using .loc[row_indexer,col_indexer] = value instead\n",
      "\n",
      "See the caveats in the documentation: https://pandas.pydata.org/pandas-docs/stable/user_guide/indexing.html#returning-a-view-versus-a-copy\n",
      "  df['hour'] = pd.to_datetime(df['START_TIME'], format='%H:%M:%S').dt.hour\n",
      "C:\\Users\\mehak\\anaconda3\\lib\\site-packages\\seaborn\\_decorators.py:36: FutureWarning: Pass the following variable as a keyword arg: x. From version 0.12, the only valid positional argument will be `data`, and passing other arguments without an explicit keyword will result in an error or misinterpretation.\n",
      "  warnings.warn(\n"
     ]
    },
    {
     "data": {
      "text/plain": [
       "13    55\n",
       "14    52\n",
       "17    51\n",
       "15    51\n",
       "18    51\n",
       "16    45\n",
       "20    45\n",
       "12    43\n",
       "11    39\n",
       "19    35\n",
       "21    34\n",
       "10    33\n",
       "9     26\n",
       "23    21\n",
       "22    21\n",
       "8     17\n",
       "0     13\n",
       "7      8\n",
       "1      4\n",
       "3      3\n",
       "5      3\n",
       "6      2\n",
       "2      1\n",
       "Name: hour, dtype: int64"
      ]
     },
     "execution_count": 25,
     "metadata": {},
     "output_type": "execute_result"
    },
    {
     "data": {
      "image/png": "[encoded data removed]",
      "text/plain": [
       "<Figure size 1080x576 with 1 Axes>"
      ]
     },
     "metadata": {},
     "output_type": "display_data"
    }
   ],
   "source": [
    "df['hour'] = pd.to_datetime(df['START_TIME'], format='%H:%M:%S').dt.hour\n",
    "\n",
    "g5 = sns.countplot(df.hour)\n",
    "\n",
    "hour_counts = df['hour'].value_counts()\n",
    "hour_counts"
   ]
  },
  {
   "cell_type": "code",
   "execution_count": 26,
   "id": "f8a64745",
   "metadata": {},
   "outputs": [
    {
     "name": "stderr",
     "output_type": "stream",
     "text": [
      "C:\\Users\\mehak\\anaconda3\\lib\\site-packages\\seaborn\\_decorators.py:36: FutureWarning: Pass the following variable as a keyword arg: x. From version 0.12, the only valid positional argument will be `data`, and passing other arguments without an explicit keyword will result in an error or misinterpretation.\n",
      "  warnings.warn(\n"
     ]
    },
    {
     "data": {
      "text/plain": [
       "13    55\n",
       "14    52\n",
       "17    51\n",
       "15    51\n",
       "18    51\n",
       "16    45\n",
       "20    45\n",
       "12    43\n",
       "11    39\n",
       "19    35\n",
       "21    34\n",
       "10    33\n",
       "9     26\n",
       "23    21\n",
       "22    21\n",
       "8     17\n",
       "0     13\n",
       "7      8\n",
       "1      4\n",
       "3      3\n",
       "5      3\n",
       "6      2\n",
       "2      1\n",
       "Name: hour, dtype: int64"
      ]
     },
     "execution_count": 26,
     "metadata": {},
     "output_type": "execute_result"
    },
    {
     "data": {
      "image/png": "[encoded data removed]",
      "text/plain": [
       "<Figure size 1080x576 with 1 Axes>"
      ]
     },
     "metadata": {},
     "output_type": "display_data"
    }
   ],
   "source": [
    "g5 = sns.countplot(df.hour)\n",
    "\n",
    "hour_counts = df['hour'].value_counts()\n",
    "hour_counts"
   ]
  },
  {
   "cell_type": "markdown",
   "id": "e8c0a6f0",
   "metadata": {},
   "source": [
    "## Starting Destination"
   ]
  },
  {
   "cell_type": "code",
   "execution_count": 40,
   "id": "9ed92f81",
   "metadata": {},
   "outputs": [
    {
     "data": {
      "text/plain": [
       "Cary                161\n",
       "Unknown Location     55\n",
       "Morrisville          54\n",
       "Whitebridge          36\n",
       "Durham               30\n",
       "Kar?chi              26\n",
       "Raleigh              21\n",
       "Lahore               19\n",
       "Islamabad            15\n",
       "Apex                 11\n",
       "Midtown              11\n",
       "Berkeley              8\n",
       "San Francisco         7\n",
       "The Drag              6\n",
       "Kissimmee             5\n",
       "Name: START, dtype: int64"
      ]
     },
     "execution_count": 40,
     "metadata": {},
     "output_type": "execute_result"
    },
    {
     "data": {
      "image/png": "[encoded data removed]",
      "text/plain": [
       "<Figure size 1080x576 with 1 Axes>"
      ]
     },
     "metadata": {},
     "output_type": "display_data"
    }
   ],
   "source": [
    "start_count = df['START'].value_counts().head(15)\n",
    "\n",
    "g9 = start_count.plot(kind = 'bar')\n",
    "start_count"
   ]
  },
  {
   "cell_type": "markdown",
   "id": "cbb3108d",
   "metadata": {},
   "source": [
    "## Reaching destination"
   ]
  },
  {
   "cell_type": "code",
   "execution_count": 58,
   "id": "531e6905",
   "metadata": {},
   "outputs": [
    {
     "data": {
      "text/plain": [
       "Cary                203\n",
       "Unknown Location    149\n",
       "Morrisville          84\n",
       "Whitebridge          65\n",
       "Islamabad            58\n",
       "Durham               36\n",
       "Lahore               36\n",
       "Raleigh              29\n",
       "Kar?chi              26\n",
       "Apex                 17\n",
       "Berkeley             16\n",
       "Westpark Place       16\n",
       "R?walpindi           13\n",
       "Kissimmee            12\n",
       "Midtown              11\n",
       "Name: STOP, dtype: int64"
      ]
     },
     "execution_count": 58,
     "metadata": {},
     "output_type": "execute_result"
    },
    {
     "data": {
      "image/png": "[encoded data removed]",
      "text/plain": [
       "<Figure size 1080x576 with 1 Axes>"
      ]
     },
     "metadata": {},
     "output_type": "display_data"
    }
   ],
   "source": [
    "stop_count = df['STOP'].value_counts().head(15)\n",
    "\n",
    "g9 = stop_count.plot(kind = 'bar')\n",
    "stop_count"
   ]
  },
  {
   "cell_type": "markdown",
   "id": "96b2c52a",
   "metadata": {},
   "source": [
    "## Most frequent routes"
   ]
  },
  {
   "cell_type": "code",
   "execution_count": 57,
   "id": "83bd060b",
   "metadata": {},
   "outputs": [
    {
     "data": {
      "text/html": [
       "<div>\n",
       "<style scoped>\n",
       "    .dataframe tbody tr th:only-of-type {\n",
       "        vertical-align: middle;\n",
       "    }\n",
       "\n",
       "    .dataframe tbody tr th {\n",
       "        vertical-align: top;\n",
       "    }\n",
       "\n",
       "    .dataframe thead th {\n",
       "        text-align: right;\n",
       "    }\n",
       "</style>\n",
       "<table border=\"1\" class=\"dataframe\">\n",
       "  <thead>\n",
       "    <tr style=\"text-align: right;\">\n",
       "      <th></th>\n",
       "      <th></th>\n",
       "      <th>count</th>\n",
       "    </tr>\n",
       "    <tr>\n",
       "      <th>START</th>\n",
       "      <th>STOP</th>\n",
       "      <th></th>\n",
       "    </tr>\n",
       "  </thead>\n",
       "  <tbody>\n",
       "    <tr>\n",
       "      <th>Morrisville</th>\n",
       "      <th>Cary</th>\n",
       "      <td>75</td>\n",
       "    </tr>\n",
       "  </tbody>\n",
       "</table>\n",
       "</div>"
      ],
      "text/plain": [
       "                  count\n",
       "START       STOP       \n",
       "Morrisville Cary     75"
      ]
     },
     "execution_count": 57,
     "metadata": {},
     "output_type": "execute_result"
    }
   ],
   "source": [
    "df1 = pd.DataFrame(df.groupby(['START', 'STOP']).size())\n",
    "df1 = df1.drop(['Unknown Location'])\n",
    "df1 = df1.rename(columns = {0 : 'count'})\n",
    "df1 = df1.sort_values(['count'],ascending=False)\n",
    "df1.head(10)\n",
    "df1.loc[df1['count'] == max(df1['count'])]"
   ]
  },
  {
   "cell_type": "code",
   "execution_count": null,
   "id": "6adbe44d",
   "metadata": {},
   "outputs": [],
   "source": []
  }
 ],
 "metadata": {
  "kernelspec": {
   "display_name": "Python 3 (ipykernel)",
   "language": "python",
   "name": "python3"
  },
  "language_info": {
   "codemirror_mode": {
    "name": "ipython",
    "version": 3
   },
   "file_extension": ".py",
   "mimetype": "text/x-python",
   "name": "python",
   "nbconvert_exporter": "python",
   "pygments_lexer": "ipython3",
   "version": "3.9.7"
  }
 },
 "nbformat": 4,
 "nbformat_minor": 5
}
